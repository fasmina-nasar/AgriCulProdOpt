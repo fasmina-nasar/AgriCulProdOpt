{
 "cells": [
  {
   "cell_type": "code",
   "execution_count": 2,
   "id": "4773cfd1",
   "metadata": {},
   "outputs": [],
   "source": [
    "# for manipulations\n",
    "import pandas as pd\n",
    "import numpy as np\n",
    "\n",
    "# for data visualization\n",
    "import matplotlib.pyplot as plt\n",
    "import seaborn as sns\n",
    "\n",
    "# for interactivity\n",
    "from ipywidgets import interact"
   ]
  },
  {
   "cell_type": "code",
   "execution_count": 3,
   "id": "6fbe7d89",
   "metadata": {},
   "outputs": [],
   "source": [
    "# read dataset\n",
    "data=pd.read_csv('data.csv')"
   ]
  },
  {
   "cell_type": "code",
   "execution_count": 4,
   "id": "9b36a601",
   "metadata": {},
   "outputs": [
    {
     "name": "stdout",
     "output_type": "stream",
     "text": [
      "shape of the dataset:  (2200, 8)\n"
     ]
    }
   ],
   "source": [
    "# chech the shape of dataset\n",
    "print(\"shape of the dataset: \" ,data.shape)"
   ]
  },
  {
   "cell_type": "code",
   "execution_count": 5,
   "id": "cefa7059",
   "metadata": {},
   "outputs": [
    {
     "data": {
      "text/html": [
       "<div>\n",
       "<style scoped>\n",
       "    .dataframe tbody tr th:only-of-type {\n",
       "        vertical-align: middle;\n",
       "    }\n",
       "\n",
       "    .dataframe tbody tr th {\n",
       "        vertical-align: top;\n",
       "    }\n",
       "\n",
       "    .dataframe thead th {\n",
       "        text-align: right;\n",
       "    }\n",
       "</style>\n",
       "<table border=\"1\" class=\"dataframe\">\n",
       "  <thead>\n",
       "    <tr style=\"text-align: right;\">\n",
       "      <th></th>\n",
       "      <th>N</th>\n",
       "      <th>P</th>\n",
       "      <th>K</th>\n",
       "      <th>temperature</th>\n",
       "      <th>humidity</th>\n",
       "      <th>ph</th>\n",
       "      <th>rainfall</th>\n",
       "      <th>label</th>\n",
       "    </tr>\n",
       "  </thead>\n",
       "  <tbody>\n",
       "    <tr>\n",
       "      <th>0</th>\n",
       "      <td>90</td>\n",
       "      <td>42</td>\n",
       "      <td>43</td>\n",
       "      <td>20.879744</td>\n",
       "      <td>82.002744</td>\n",
       "      <td>6.502985</td>\n",
       "      <td>202.935536</td>\n",
       "      <td>rice</td>\n",
       "    </tr>\n",
       "    <tr>\n",
       "      <th>1</th>\n",
       "      <td>85</td>\n",
       "      <td>58</td>\n",
       "      <td>41</td>\n",
       "      <td>21.770462</td>\n",
       "      <td>80.319644</td>\n",
       "      <td>7.038096</td>\n",
       "      <td>226.655537</td>\n",
       "      <td>rice</td>\n",
       "    </tr>\n",
       "    <tr>\n",
       "      <th>2</th>\n",
       "      <td>60</td>\n",
       "      <td>55</td>\n",
       "      <td>44</td>\n",
       "      <td>23.004459</td>\n",
       "      <td>82.320763</td>\n",
       "      <td>7.840207</td>\n",
       "      <td>263.964248</td>\n",
       "      <td>rice</td>\n",
       "    </tr>\n",
       "    <tr>\n",
       "      <th>3</th>\n",
       "      <td>74</td>\n",
       "      <td>35</td>\n",
       "      <td>40</td>\n",
       "      <td>26.491096</td>\n",
       "      <td>80.158363</td>\n",
       "      <td>6.980401</td>\n",
       "      <td>242.864034</td>\n",
       "      <td>rice</td>\n",
       "    </tr>\n",
       "    <tr>\n",
       "      <th>4</th>\n",
       "      <td>78</td>\n",
       "      <td>42</td>\n",
       "      <td>42</td>\n",
       "      <td>20.130175</td>\n",
       "      <td>81.604873</td>\n",
       "      <td>7.628473</td>\n",
       "      <td>262.717340</td>\n",
       "      <td>rice</td>\n",
       "    </tr>\n",
       "  </tbody>\n",
       "</table>\n",
       "</div>"
      ],
      "text/plain": [
       "    N   P   K  temperature   humidity        ph    rainfall label\n",
       "0  90  42  43    20.879744  82.002744  6.502985  202.935536  rice\n",
       "1  85  58  41    21.770462  80.319644  7.038096  226.655537  rice\n",
       "2  60  55  44    23.004459  82.320763  7.840207  263.964248  rice\n",
       "3  74  35  40    26.491096  80.158363  6.980401  242.864034  rice\n",
       "4  78  42  42    20.130175  81.604873  7.628473  262.717340  rice"
      ]
     },
     "execution_count": 5,
     "metadata": {},
     "output_type": "execute_result"
    }
   ],
   "source": [
    "# head of the dataset\n",
    "data.head()"
   ]
  },
  {
   "cell_type": "code",
   "execution_count": 6,
   "id": "1910bbe7",
   "metadata": {},
   "outputs": [
    {
     "data": {
      "text/plain": [
       "N              0\n",
       "P              0\n",
       "K              0\n",
       "temperature    0\n",
       "humidity       0\n",
       "ph             0\n",
       "rainfall       0\n",
       "label          0\n",
       "dtype: int64"
      ]
     },
     "execution_count": 6,
     "metadata": {},
     "output_type": "execute_result"
    }
   ],
   "source": [
    "# check if there is missing values in the dataset\n",
    "data.isnull().sum()"
   ]
  },
  {
   "cell_type": "code",
   "execution_count": 7,
   "id": "b4bdc686",
   "metadata": {},
   "outputs": [
    {
     "data": {
      "text/plain": [
       "pigeonpeas     100\n",
       "grapes         100\n",
       "mungbean       100\n",
       "chickpea       100\n",
       "watermelon     100\n",
       "rice           100\n",
       "muskmelon      100\n",
       "jute           100\n",
       "cotton         100\n",
       "apple          100\n",
       "orange         100\n",
       "papaya         100\n",
       "pomegranate    100\n",
       "mothbeans      100\n",
       "blackgram      100\n",
       "coconut        100\n",
       "kidneybeans    100\n",
       "mango          100\n",
       "maize          100\n",
       "banana         100\n",
       "lentil         100\n",
       "coffee         100\n",
       "Name: label, dtype: int64"
      ]
     },
     "execution_count": 7,
     "metadata": {},
     "output_type": "execute_result"
    }
   ],
   "source": [
    "# check the crops present in the dataset\n",
    "data['label'].value_counts()"
   ]
  },
  {
   "cell_type": "code",
   "execution_count": 12,
   "id": "1b3961f2",
   "metadata": {},
   "outputs": [
    {
     "name": "stdout",
     "output_type": "stream",
     "text": [
      "Average Ratio of Nitrogen in the soil :50.55\n",
      "Average Ratio of Phosphorous in the soil :53.36\n",
      "Average Ratio of Potassium in the soil :48.15\n",
      "Average Temperature in Celsius :25.62\n",
      "Average Relative Humidity in % :71.48\n",
      "Average PH value of the soil:6.47\n",
      "Average Rainfall in mm:103.46\n"
     ]
    }
   ],
   "source": [
    "# check summary of all crops\n",
    "\n",
    "print(f\"Average Ratio of Nitrogen in the soil :{ data['N'].mean():.2f}\")\n",
    "print(f\"Average Ratio of Phosphorous in the soil :{ data['P'].mean():.2f}\")\n",
    "print(f\"Average Ratio of Potassium in the soil :{ data['K'].mean():.2f}\")\n",
    "print(f\"Average Temperature in Celsius :{ data['temperature'].mean():.2f}\")\n",
    "print(f\"Average Relative Humidity in % :{ data['humidity'].mean():.2f}\")\n",
    "print(f\"Average PH value of the soil:{ data['ph'].mean():.2f}\")\n",
    "print(f\"Average Rainfall in mm:{ data['rainfall'].mean():.2f}\")"
   ]
  },
  {
   "cell_type": "code",
   "execution_count": 25,
   "id": "066b8608",
   "metadata": {},
   "outputs": [
    {
     "data": {
      "application/vnd.jupyter.widget-view+json": {
       "model_id": "843ef390654e45bd9a9e4d0e21097795",
       "version_major": 2,
       "version_minor": 0
      },
      "text/plain": [
       "interactive(children=(Dropdown(description='crops', options=('pigeonpeas', 'grapes', 'mungbean', 'chickpea', '…"
      ]
     },
     "metadata": {},
     "output_type": "display_data"
    }
   ],
   "source": [
    "# lets check the summary statistics for each of the crops\n",
    "\n",
    "@interact\n",
    "def summary(crops=list(data['label'].value_counts().index)):\n",
    "    x = data[data['label']==crops]\n",
    "    print('-----------------------------------------------')\n",
    "    print('Statistics for Nitrogen')\n",
    "    print('Minimum Nitrogen required : ',x['N'].min())\n",
    "    print('Average Nitrogen required : ',x['N'].mean())\n",
    "    print('Maximum Nitrogen required : ',x['N'].max())\n",
    "    print('-----------------------------------------------')\n",
    "    print('Statistics for Phosphorous')\n",
    "    print('Minimum Phosphorous required : ',x['P'].min())\n",
    "    print('Average Phosphorous required : ',x['P'].mean())\n",
    "    print('Maximum Phosphorous required : ',x['P'].max())\n",
    "    print('-----------------------------------------------')\n",
    "    print('Statistics for Potassium')\n",
    "    print('Minimum Potassium required : ',x['K'].min())\n",
    "    print('Average Potassium required : ',x['K'].mean())\n",
    "    print('Maximum Potassium required : ',x['K'].max())\n",
    "    print('-----------------------------------------------')\n",
    "    print('Statistics for Temperature')\n",
    "    print('Minimum Temperature required : ',x['temperature'].min())\n",
    "    print('Average Temperature required : ',x['temperature'].mean())\n",
    "    print('Maximum Temperature required : ',x['temperature'].max())\n",
    "    print('-----------------------------------------------')\n",
    "    print('Statistics for Humidity')\n",
    "    print('Minimum Humidity required : ',x['humidity'].min())\n",
    "    print('Average Humidity required : ',x['humidity'].mean())\n",
    "    print('Maximum Humidity required : ',x['humidity'].max())\n",
    "    print('-----------------------------------------------')\n",
    "    print('Statistics for PH')\n",
    "    print('Minimum PH required : ',x['ph'].min())\n",
    "    print('Average PH required : ',x['ph'].mean())\n",
    "    print('Maximum PH required : ',x['ph'].max())\n",
    "    print('-----------------------------------------------')\n",
    "    print('Statistics for Rainfall')\n",
    "    print('Minimum Rainfall required : ',x['rainfall'].min())\n",
    "    print('Average Rainfall required : ',x['rainfall'].mean())\n",
    "    print('Maximum Rainfall required : ',x['rainfall'].max())\n",
    "    "
   ]
  },
  {
   "cell_type": "code",
   "execution_count": null,
   "id": "e8aa4317",
   "metadata": {},
   "outputs": [],
   "source": []
  }
 ],
 "metadata": {
  "kernelspec": {
   "display_name": "Python 3",
   "language": "python",
   "name": "python3"
  },
  "language_info": {
   "codemirror_mode": {
    "name": "ipython",
    "version": 3
   },
   "file_extension": ".py",
   "mimetype": "text/x-python",
   "name": "python",
   "nbconvert_exporter": "python",
   "pygments_lexer": "ipython3",
   "version": "3.6.13"
  }
 },
 "nbformat": 4,
 "nbformat_minor": 5
}
